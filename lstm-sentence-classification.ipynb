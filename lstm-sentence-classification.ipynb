{
 "cells": [
  {
   "cell_type": "code",
   "execution_count": 1,
   "metadata": {},
   "outputs": [
    {
     "name": "stderr",
     "output_type": "stream",
     "text": [
      "Using TensorFlow backend.\n"
     ]
    }
   ],
   "source": [
    "import numpy as np\n",
    "import codecs\n",
    "import collections\n",
    "import random\n",
    "from nltk.tokenize import word_tokenize\n",
    "\n",
    "from keras import backend as K\n",
    "from keras.models import Model\n",
    "from keras.layers.embeddings import Embedding\n",
    "from keras.layers import Input, Dense, LSTM, Dropout"
   ]
  },
  {
   "cell_type": "code",
   "execution_count": 2,
   "metadata": {},
   "outputs": [],
   "source": [
    "word_freq = collections.Counter()\n",
    "def load_data(fpath, wf):\n",
    "    data = []\n",
    "    with codecs.open(fpath, 'r', 'utf-8', errors='ignore') as f:\n",
    "        lines = f.readlines()\n",
    "        for l in lines:\n",
    "            label, words = l.strip().split('\\t', 1)\n",
    "            words = word_tokenize(words.encode().decode('ascii', 'ignore').lower())\n",
    "            data.append((words, label))\n",
    "            for w in words:\n",
    "                word_freq[w] += 1\n",
    "    return data\n",
    "data = load_data('./training.txt', word_freq)"
   ]
  },
  {
   "cell_type": "code",
   "execution_count": 3,
   "metadata": {},
   "outputs": [
    {
     "name": "stdout",
     "output_type": "stream",
     "text": [
      "sentence maxlen 42\n",
      "vocab size 2315\n"
     ]
    }
   ],
   "source": [
    "max_vocab = 2500\n",
    "vocab_size = min(max_vocab, len(word_freq)) + 2\n",
    "w2i = {w[0]:i for i, w in enumerate(word_freq.most_common(max_vocab), 2)}\n",
    "PAD = '<PADDING>'\n",
    "UNK = '<UNK>'\n",
    "w2i[PAD], w2i[UNK] = 0, 1\n",
    "i2w = {v:k for k, v in w2i.items()}\n",
    "\n",
    "sentence_maxlen = max(map(len, (d for d, _ in data)))\n",
    "print('sentence maxlen', sentence_maxlen)\n",
    "print('vocab size', vocab_size)"
   ]
  },
  {
   "cell_type": "code",
   "execution_count": 4,
   "metadata": {},
   "outputs": [],
   "source": [
    "# vectorize\n",
    "N = len(data)\n",
    "random.shuffle(data)\n",
    "X = np.zeros((N, sentence_maxlen))\n",
    "Y = np.zeros((N, ))\n",
    "for i, (words, label) in enumerate(data):\n",
    "    for t, w in enumerate(words):\n",
    "        if w in w2i:\n",
    "            X[i, t] = w2i[w]\n",
    "        else:\n",
    "            X[i, t] = w2i[UNK]\n",
    "    Y[i] = label"
   ]
  },
  {
   "cell_type": "code",
   "execution_count": 5,
   "metadata": {},
   "outputs": [
    {
     "name": "stdout",
     "output_type": "stream",
     "text": [
      "_________________________________________________________________\n",
      "Layer (type)                 Output Shape              Param #   \n",
      "=================================================================\n",
      "input_1 (InputLayer)         (None, None)              0         \n",
      "_________________________________________________________________\n",
      "embedding_1 (Embedding)      (None, 42, 128)           296320    \n",
      "_________________________________________________________________\n",
      "dropout_1 (Dropout)          (None, 42, 128)           0         \n",
      "_________________________________________________________________\n",
      "lstm_1 (LSTM)                (None, 64)                49408     \n",
      "_________________________________________________________________\n",
      "dense_1 (Dense)              (None, 1)                 65        \n",
      "=================================================================\n",
      "Total params: 345,793\n",
      "Trainable params: 345,793\n",
      "Non-trainable params: 0\n",
      "_________________________________________________________________\n",
      "None\n"
     ]
    }
   ],
   "source": [
    "# define model\n",
    "embd_size = 128\n",
    "hidden_size = 64\n",
    "sentence_input = Input(shape=(None, ))\n",
    "embd_sentence = Embedding(input_dim=vocab_size, output_dim=embd_size, input_length=sentence_maxlen)(sentence_input)\n",
    "embd_sentence = Dropout(0.2)(embd_sentence)\n",
    "out_rnn = LSTM(hidden_size, dropout=0.2, recurrent_dropout=0.2)(embd_sentence)\n",
    "output = Dense(1, activation='sigmoid')(out_rnn)\n",
    "model = Model(sentence_input, output)\n",
    "model.compile(loss='binary_crossentropy', optimizer='adam', metrics=['acc'])\n",
    "print(model.summary())"
   ]
  },
  {
   "cell_type": "code",
   "execution_count": 7,
   "metadata": {},
   "outputs": [
    {
     "name": "stdout",
     "output_type": "stream",
     "text": [
      "Train on 5668 samples, validate on 1418 samples\n",
      "Epoch 1/10\n",
      "5668/5668 [==============================] - 3s 534us/step - loss: 0.0199 - acc: 0.9958 - val_loss: 0.0786 - val_acc: 0.9838\n",
      "Epoch 2/10\n",
      "5668/5668 [==============================] - 3s 534us/step - loss: 0.0279 - acc: 0.9951 - val_loss: 0.1003 - val_acc: 0.9831\n",
      "Epoch 3/10\n",
      "5668/5668 [==============================] - 3s 536us/step - loss: 0.0192 - acc: 0.9968 - val_loss: 0.0969 - val_acc: 0.9838\n",
      "Epoch 4/10\n",
      "5668/5668 [==============================] - 3s 538us/step - loss: 0.0129 - acc: 0.9981 - val_loss: 0.1040 - val_acc: 0.9831\n",
      "Epoch 5/10\n",
      "5668/5668 [==============================] - 3s 530us/step - loss: 0.0115 - acc: 0.9982 - val_loss: 0.1428 - val_acc: 0.9774\n",
      "Epoch 6/10\n",
      "5668/5668 [==============================] - 3s 532us/step - loss: 0.0289 - acc: 0.9958 - val_loss: 0.1155 - val_acc: 0.9810\n",
      "Epoch 7/10\n",
      "5668/5668 [==============================] - 3s 533us/step - loss: 0.0153 - acc: 0.9979 - val_loss: 0.1134 - val_acc: 0.9817\n",
      "Epoch 8/10\n",
      "5668/5668 [==============================] - 3s 530us/step - loss: 0.0120 - acc: 0.9984 - val_loss: 0.1194 - val_acc: 0.9810\n",
      "Epoch 9/10\n",
      "5668/5668 [==============================] - 3s 528us/step - loss: 0.0129 - acc: 0.9982 - val_loss: 0.1179 - val_acc: 0.9810\n",
      "Epoch 10/10\n",
      "5668/5668 [==============================] - 3s 531us/step - loss: 0.0230 - acc: 0.9965 - val_loss: 0.1030 - val_acc: 0.9817\n"
     ]
    }
   ],
   "source": [
    "hist = model.fit(X, Y,\n",
    "          batch_size=64,\n",
    "          epochs=10,\n",
    "          validation_split=.2)"
   ]
  },
  {
   "cell_type": "code",
   "execution_count": 16,
   "metadata": {},
   "outputs": [
    {
     "data": {
      "image/png": "[encoded data removed]",
      "text/plain": [
       "<matplotlib.figure.Figure at 0x7f8bf1f2eef0>"
      ]
     },
     "metadata": {},
     "output_type": "display_data"
    }
   ],
   "source": [
    "import matplotlib.pyplot as plt\n",
    "ax1 = plt.subplot(211)\n",
    "plt.title('Acc')\n",
    "plt.plot(hist.history['acc'], color='b', label='Train')\n",
    "plt.plot(hist.history['val_acc'], color='g', label='Validation')\n",
    "# ax1.set_ylim([0.5, 1.])\n",
    "plt.legend(loc='best')\n",
    "\n",
    "ax2 = plt.subplot(212)\n",
    "plt.title('Loss')\n",
    "plt.plot(hist.history['loss'], color='b', label='Train')\n",
    "plt.plot(hist.history['val_loss'], color='g', label='Validation')\n",
    "# ax2.set_ylim([0., .5])\n",
    "plt.legend(loc='best')\n",
    "\n",
    "plt.show()"
   ]
  }
 ],
 "metadata": {
  "kernelspec": {
   "display_name": "Python 3",
   "language": "python",
   "name": "python3"
  },
  "language_info": {
   "codemirror_mode": {
    "name": "ipython",
    "version": 3
   },
   "file_extension": ".py",
   "mimetype": "text/x-python",
   "name": "python",
   "nbconvert_exporter": "python",
   "pygments_lexer": "ipython3",
   "version": "3.6.1"
  }
 },
 "nbformat": 4,
 "nbformat_minor": 2
}
